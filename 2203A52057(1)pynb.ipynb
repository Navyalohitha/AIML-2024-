{
  "nbformat": 4,
  "nbformat_minor": 0,
  "metadata": {
    "colab": {
      "provenance": []
    },
    "kernelspec": {
      "name": "python3",
      "display_name": "Python 3"
    },
    "language_info": {
      "name": "python"
    }
  },
  "cells": [
    {
      "cell_type": "markdown",
      "source": [
        "**Part 1 – Implement Basic Data Structures using Numpy, Pandas**"
      ],
      "metadata": {
        "id": "RB5hovfxM-sz"
      }
    },
    {
      "cell_type": "code",
      "execution_count": 9,
      "metadata": {
        "colab": {
          "base_uri": "https://localhost:8080/"
        },
        "id": "SRByGPW2FtqO",
        "outputId": "084e098a-a892-4505-fe7f-5865a5e15c39"
      },
      "outputs": [
        {
          "output_type": "stream",
          "name": "stdout",
          "text": [
            "3\n",
            "1\n",
            "0\n",
            "2\n",
            "[1, 0, 2]\n",
            "[1 0 2]\n"
          ]
        },
        {
          "output_type": "execute_result",
          "data": {
            "text/plain": [
              "numpy.ndarray"
            ]
          },
          "metadata": {},
          "execution_count": 9
        }
      ],
      "source": [
        "import numpy as np\n",
        "s=[]\n",
        "n=int(input())\n",
        "for i in range(n):\n",
        "  a=int(input())\n",
        "  s.append(a)\n",
        "print(s)\n",
        "b=np.array(s)\n",
        "print(b)\n",
        "type(s)\n",
        "type(b)"
      ]
    },
    {
      "cell_type": "code",
      "source": [
        "import numpy as np\n",
        "list1=[1,2,3,4,5,6]\n",
        "print(type(list1))\n",
        "arr1=np.array(list1)\n",
        "print(list1)\n",
        "print(arr1)\n",
        "print(type(arr1))"
      ],
      "metadata": {
        "colab": {
          "base_uri": "https://localhost:8080/"
        },
        "id": "8vhHi4chGrc1",
        "outputId": "970d8bd6-314e-46f1-a89f-a1369690d359"
      },
      "execution_count": 16,
      "outputs": [
        {
          "output_type": "stream",
          "name": "stdout",
          "text": [
            "<class 'list'>\n",
            "[1, 2, 3, 4, 5, 6]\n",
            "[1 2 3 4 5 6]\n",
            "<class 'numpy.ndarray'>\n"
          ]
        }
      ]
    },
    {
      "cell_type": "code",
      "source": [
        "\n",
        "A = [2, 4, 6, 8]\n",
        "B = [1, 2, 3, 4]\n",
        "C = [a * b for a, b in zip(A,B)]\n",
        "print(\"Multiplication result:\", C)\n",
        "\n",
        "D = [a / b for a, b in zip(A,B)]\n",
        "print(\"Division result:\", D)\n",
        "\n",
        "# Perform exponentiation (power of)\n",
        "E= [a ** b for a, b in zip(A,B)]\n",
        "print(\"Exponentiation result:\", E)\n"
      ],
      "metadata": {
        "colab": {
          "base_uri": "https://localhost:8080/"
        },
        "id": "5XkhJCHFHle_",
        "outputId": "3382b03c-163d-4c11-c125-1efb0820ede0"
      },
      "execution_count": 17,
      "outputs": [
        {
          "output_type": "stream",
          "name": "stdout",
          "text": [
            "Multiplication result: [2, 8, 18, 32]\n",
            "Division result: [2.0, 2.0, 2.0, 2.0]\n",
            "Exponentiation result: [2, 16, 216, 4096]\n"
          ]
        }
      ]
    },
    {
      "cell_type": "code",
      "source": [
        "import numpy as np\n",
        "array1 = np.array([1, 2, 3])\n",
        "array2 = np.array([4, 5, 6])\n",
        "result_array = array1 + array2\n",
        "text_output = f\"Addition of Two:\\narray1 + array2\\n{array1} + {array2} = {result_array}\"\n",
        "print(text_output)\n"
      ],
      "metadata": {
        "colab": {
          "base_uri": "https://localhost:8080/"
        },
        "id": "OWwnECNPIwIf",
        "outputId": "833dea3c-c2a8-4def-ab4a-21b5617c9c2f"
      },
      "execution_count": 18,
      "outputs": [
        {
          "output_type": "stream",
          "name": "stdout",
          "text": [
            "Addition of Two:\n",
            "array1 + array2\n",
            "[1 2 3] + [4 5 6] = [5 7 9]\n"
          ]
        }
      ]
    },
    {
      "cell_type": "code",
      "source": [
        "import numpy as np\n",
        "A = np.array([1, 2, 3, 4, 5])\n",
        "sin_result =np.sin(A)\n",
        "log_result = np.log(A)\n",
        "log2_result = np.log2(A)\n",
        "exp_result = np.exp(A)\n",
        "print(\"sin:\", sin_result)\n",
        "print(\"log:\", log_result)\n",
        "print(\"log2:\", log2_result)\n",
        "print(\"exp:\", exp_result)"
      ],
      "metadata": {
        "colab": {
          "base_uri": "https://localhost:8080/"
        },
        "id": "aJYBI6DjLmgc",
        "outputId": "284bea68-414f-4dab-e9df-7a7c83533302"
      },
      "execution_count": 22,
      "outputs": [
        {
          "output_type": "stream",
          "name": "stdout",
          "text": [
            "sin: [ 0.84147098  0.90929743  0.14112001 -0.7568025  -0.95892427]\n",
            "log: [0.         0.69314718 1.09861229 1.38629436 1.60943791]\n",
            "log2: [0.         1.         1.5849625  2.         2.32192809]\n",
            "exp: [  2.71828183   7.3890561   20.08553692  54.59815003 148.4131591 ]\n"
          ]
        }
      ]
    }
  ]
}