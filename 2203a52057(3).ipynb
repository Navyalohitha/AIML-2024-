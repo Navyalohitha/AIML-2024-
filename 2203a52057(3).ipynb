{
  "nbformat": 4,
  "nbformat_minor": 0,
  "metadata": {
    "colab": {
      "provenance": []
    },
    "kernelspec": {
      "name": "python3",
      "display_name": "Python 3"
    },
    "language_info": {
      "name": "python"
    }
  },
  "cells": [
    {
      "cell_type": "code",
      "execution_count": 3,
      "metadata": {
        "id": "HdpCM47J54TD",
        "colab": {
          "base_uri": "https://localhost:8080/"
        },
        "outputId": "cc44c09f-4db6-433e-d0b1-2a3623a23a4c"
      },
      "outputs": [
        {
          "output_type": "stream",
          "name": "stdout",
          "text": [
            "Data from Excel:\n",
            "   Table 1  Unnamed: 1 Unnamed: 2\n",
            "0     name        Htno    Surname\n",
            "1  Lakshmi  2203A52230          N\n",
            "2   Sravan  2203A52099          L\n",
            "3   Chandu  2203a52081          C\n",
            "4    Navya  2203A52057          N\n",
            "\n",
            "Data from CSV:\n",
            "      name        Htno Surname\n",
            "0  Lakshmi  2203A52230       N\n",
            "1   Sravan  2203A52099       L\n",
            "2   Chandu  2203a52081       C\n",
            "3    Navya  2203A52057       N\n",
            "\n",
            "Data from TSV:\n",
            "      name        Htno Surname  Unnamed: 3  Unnamed: 4  Unnamed: 5\n",
            "0  Lakshmi  2203A52230       N         NaN         NaN         NaN\n",
            "1   Sravan  2203A52099       L         NaN         NaN         NaN\n",
            "2   Chandu  2203A52081       C         NaN         NaN         NaN\n",
            "3    Navya  2203A52057       N         NaN         NaN         NaN\n",
            "Error parsing the data from the URL: Error tokenizing data. C error: Expected 1 fields in line 40, saw 8\n",
            "\n"
          ]
        }
      ],
      "source": [
        "import pandas as pd\n",
        "\n",
        "# Read Excel file\n",
        "excel_file_path = '/content/navya1.xlsx'\n",
        "data_excel = pd.read_excel(excel_file_path)\n",
        "\n",
        "# Read CSV file\n",
        "csv_file_path = '/content/navya2.csv'\n",
        "data_csv = pd.read_csv(csv_file_path)\n",
        "\n",
        "# Read TSV file (Tab-separated values)\n",
        "tsv_file_path = '/content/navya3.tsv'\n",
        "data_tsv = pd.read_csv(tsv_file_path, sep='\\t')\n",
        "\n",
        "print(\"Data from Excel:\")\n",
        "print(data_excel)\n",
        "\n",
        "print(\"\\nData from CSV:\")\n",
        "print(data_csv)\n",
        "\n",
        "print(\"\\nData from TSV:\")\n",
        "print(data_tsv)\n",
        "\n",
        "# Read data from URL (GitHub raw content)\n",
        "url = 'https://github.com/Navyalohitha/2203a52057/blob/main/navya2.csv'\n",
        "try:\n",
        "    df_url = pd.read_csv(url)\n",
        "\n",
        "    if not df_url.empty:\n",
        "        print(\"\\nData from URL:\")\n",
        "        print(df_url)\n",
        "    else:\n",
        "        print(f\"The URL '{url}' did not return any data.\")\n",
        "except pd.errors.ParserError as e:\n",
        "    print(f\"Error parsing the data from the URL: {e}\")\n",
        "except Exception as e:\n",
        "    print(f\"An unexpected error occurred: {e}\")\n"
      ]
    },
    {
      "cell_type": "code",
      "source": [],
      "metadata": {
        "id": "V2qqCUhN6IA1"
      },
      "execution_count": null,
      "outputs": []
    }
  ]
}